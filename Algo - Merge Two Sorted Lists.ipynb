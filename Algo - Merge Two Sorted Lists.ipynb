{
 "cells": [
  {
   "cell_type": "markdown",
   "id": "49c82041",
   "metadata": {},
   "source": [
    "[Source](https://leetcode.com/problems/merge-two-sorted-lists/)\n",
    "\n",
    "You are given the heads of two sorted linked lists list1 and list2.\n",
    "Merge the two lists into one sorted list. The list should be made by splicing together the nodes of the first two lists.\n",
    "\n",
    "**Example 1:** \n",
    "    1 -> 2 -> 4\n",
    "    1 -> 3 -> 4\n",
    "        1 -> 1 -> 2 -> 3 -> 4 -> 4\n",
    "\n",
    "Input: list1 = [1,2,4], list2 = [1,3,4]\n",
    "Output: [1,1,2,3,4,4]\n",
    "\n",
    "**Example 2:**\n",
    "\n",
    "Input: list1 = [], list2 = []\n",
    "Output: []\n",
    "\n",
    "**Example 3:**\n",
    "\n",
    "Input: list1 = [], list2 = [0]\n",
    "Output: [0]\n",
    "\n",
    "**Constraints:**\n",
    "\n",
    " + The number of nodes in both lists is in the range [0, 50].\n",
    " + -100 <= Node.val <= 100\n",
    " + Both list1 and list2 are sorted in non-decreasing order."
   ]
  },
  {
   "cell_type": "code",
   "execution_count": 1,
   "id": "41820fd3",
   "metadata": {
    "polyglot_notebook": {
     "kernelName": "mermaid"
    },
    "vscode": {
     "languageId": "polyglot-notebook"
    }
   },
   "outputs": [
    {
     "data": {
      "text/html": [
       "<div class=\"mermaidMarkdownContainer\" style=\"background-color:white\">\r\n",
       "<link rel=\"stylesheet\" href=\"https://cdnjs.cloudflare.com/ajax/libs/font-awesome/6.2.0/css/all.min.css\">\r\n",
       "<div id=\"2d0a319696394590abb58d124a2e6647\"></div>\r\n",
       "<script type=\"module\">\r\n",
       "\r\n",
       "            import mermaid from 'https://cdn.jsdelivr.net/npm/mermaid@10.6.1/dist/mermaid.esm.min.mjs';\r\n",
       "            let renderTarget = document.getElementById('2d0a319696394590abb58d124a2e6647');\r\n",
       "            try {\r\n",
       "                const {svg, bindFunctions} = await mermaid.mermaidAPI.render( \r\n",
       "                    'mermaid_2d0a319696394590abb58d124a2e6647', \r\n",
       "                    `graph LR\n",
       "    %% List 1\n",
       "    A1[1] --> A2[2] --> A3[4]\n",
       "    \n",
       "    %% List 2\n",
       "    B1[1] --> B2[3] --> B3[4]`);\r\n",
       "                renderTarget.innerHTML = svg;\r\n",
       "                bindFunctions?.(renderTarget);\r\n",
       "            }\r\n",
       "            catch (error) {\r\n",
       "                console.log(error);\r\n",
       "            }\r\n",
       "</script>\r\n",
       "</div>\r\n"
      ]
     },
     "metadata": {},
     "output_type": "display_data"
    }
   ],
   "source": [
    "graph LR\n",
    "    %% List 1\n",
    "    A1[1] --> A2[2] --> A3[4]\n",
    "    \n",
    "    %% List 2\n",
    "    B1[1] --> B2[3] --> B3[4]"
   ]
  },
  {
   "cell_type": "code",
   "execution_count": 2,
   "id": "838f8558",
   "metadata": {
    "polyglot_notebook": {
     "kernelName": "csharp"
    },
    "vscode": {
     "languageId": "polyglot-notebook"
    }
   },
   "outputs": [],
   "source": [
    "public class ListNode {\n",
    "    public int val;\n",
    "    public ListNode next;\n",
    "    public ListNode (int val = 0, ListNode next = null) {\n",
    "        this.val = val;\n",
    "        this.next = next;\n",
    "    }\n",
    "}"
   ]
  },
  {
   "cell_type": "code",
   "execution_count": 7,
   "metadata": {
    "polyglot_notebook": {
     "kernelName": "csharp"
    },
    "vscode": {
     "languageId": "polyglot-notebook"
    }
   },
   "outputs": [],
   "source": [
    "public static class ListNodeUtils \n",
    "{\n",
    "    public static List<int> ToList(ListNode thisNode) \n",
    "    {\n",
    "        List<int> l = new List<int>();\n",
    "        \n",
    "        ListNode currentNode = thisNode;\n",
    "        while (currentNode != null) {\n",
    "            l.Add(currentNode.val);\n",
    "            currentNode = currentNode.next;\n",
    "        }\n",
    "\n",
    "        return l;\n",
    "    }\n",
    "\n",
    "    public static ListNode OfList (ListNode thisNode, List<int> intList) \n",
    "    {\n",
    "        if (intList == null || intList.Count == 0)\n",
    "            return null;\n",
    "\n",
    "        var currentNode = thisNode;\n",
    "\n",
    "        for (var i = 0; i < intList.Count - 1; i++) \n",
    "        {\n",
    "            currentNode.val = intList[i];\n",
    "            var nextNode = new ListNode(intList[i + 1]);\n",
    "            currentNode.next = nextNode;\n",
    "            currentNode = nextNode;       \n",
    "        }\n",
    "    \n",
    "        return thisNode;\n",
    "    }\n",
    "\n",
    "    public static ListNode OfListDoneRight (ListNode thisNode, List<int> intList) \n",
    "    {\n",
    "        if (intList == null || intList.Count == 0)\n",
    "            return null;\n",
    "\n",
    "        var head = new ListNode(intList[0]);\n",
    "        var current = head;\n",
    "\n",
    "        for (int i = 1; i < intList.Count; i++)\n",
    "        {\n",
    "            current.next = new ListNode(intList[i]);\n",
    "            current = current.next;\n",
    "        }\n",
    "\n",
    "        return head;\n",
    "    }\n",
    "\n",
    "    public static ListNode MergeTwoListsClaude(ListNode list1, ListNode list2) \n",
    "    {\n",
    "        // Handle edge cases\n",
    "        if (list1 == null) return list2;\n",
    "        if (list2 == null) return list1;\n",
    "\n",
    "        // Create a dummy head node to simplify the logic\n",
    "        ListNode dummyHead = new ListNode();\n",
    "        ListNode current = dummyHead;\n",
    "\n",
    "        // Traverse both lists and pick the smaller value each time\n",
    "        while (list1 != null && list2 != null)\n",
    "        {\n",
    "            if (list1.val <= list2.val)\n",
    "            {\n",
    "                current.next = list1;\n",
    "                list1 = list1.next;\n",
    "            }\n",
    "            else\n",
    "            {\n",
    "                current.next = list2;\n",
    "                list2 = list2.next;\n",
    "            }\n",
    "            current = current.next;\n",
    "        }\n",
    "\n",
    "        // Attach the remaining nodes from either list\n",
    "        current.next = (list1 != null) ? list1 : list2;\n",
    "\n",
    "        // Return the merged list (skip the dummy head)\n",
    "        return dummyHead.next;\n",
    "    }\n",
    "\n",
    "    public static ListNode MergeTwoLists(ListNode list1, ListNode list2) {\n",
    "        ListNode dummy = new ListNode(); // Sentinel node to simplify edge cases\n",
    "        ListNode current = dummy;\n",
    "\n",
    "        while (list1 != null && list2 != null) {\n",
    "            if (list1.val <= list2.val) {\n",
    "                current.next = list1;     // Splice node from list1\n",
    "                list1 = list1.next;\n",
    "            } else {\n",
    "                current.next = list2;     // Splice node from list2\n",
    "                list2 = list2.next;\n",
    "            }\n",
    "            current = current.next;\n",
    "        }\n",
    "\n",
    "        // Attach the remainder of the non-empty list\n",
    "        current.next = (list1 != null) ? list1 : list2;\n",
    "\n",
    "        return dummy.next; // Skip the sentinel node\n",
    "    }\n",
    "}"
   ]
  },
  {
   "cell_type": "code",
   "execution_count": 8,
   "metadata": {
    "polyglot_notebook": {
     "kernelName": "csharp"
    },
    "vscode": {
     "languageId": "polyglot-notebook"
    }
   },
   "outputs": [
    {
     "data": {
      "text/html": [
       "<details open=\"open\" class=\"dni-treeview\"><summary><span class=\"dni-code-hint\"><code>Submission#2+ListNode</code></span></summary><div><table><thead><tr></tr></thead><tbody><tr><td>val</td><td><div class=\"dni-plaintext\"><pre>1</pre></div></td></tr><tr><td>next</td><td><details class=\"dni-treeview\"><summary><span class=\"dni-code-hint\"><code>Submission#2+ListNode</code></span></summary><div><table><thead><tr></tr></thead><tbody><tr><td>val</td><td><div class=\"dni-plaintext\"><pre>2</pre></div></td></tr><tr><td>next</td><td><details class=\"dni-treeview\"><summary><span class=\"dni-code-hint\"><code>Submission#2+ListNode</code></span></summary><div><table><thead><tr></tr></thead><tbody><tr><td>val</td><td><div class=\"dni-plaintext\"><pre>3</pre></div></td></tr><tr><td>next</td><td><details class=\"dni-treeview\"><summary><span class=\"dni-code-hint\"><code>Submission#2+ListNode</code></span></summary><div><table><thead><tr></tr></thead><tbody><tr><td>val</td><td><div class=\"dni-plaintext\"><pre>4</pre></div></td></tr><tr><td>next</td><td><details class=\"dni-treeview\"><summary><span class=\"dni-code-hint\"><code>Submission#2+ListNode</code></span></summary><div><table><thead><tr></tr></thead><tbody><tr><td>val</td><td><div class=\"dni-plaintext\"><pre>5</pre></div></td></tr><tr><td>next</td><td><div class=\"dni-plaintext\"><pre>&lt;null&gt;</pre></div></td></tr></tbody></table></div></details></td></tr></tbody></table></div></details></td></tr></tbody></table></div></details></td></tr></tbody></table></div></details></td></tr></tbody></table></div></details><style>\r\n",
       ".dni-code-hint {\r\n",
       "    font-style: italic;\r\n",
       "    overflow: hidden;\r\n",
       "    white-space: nowrap;\r\n",
       "}\r\n",
       ".dni-treeview {\r\n",
       "    white-space: nowrap;\r\n",
       "}\r\n",
       ".dni-treeview td {\r\n",
       "    vertical-align: top;\r\n",
       "    text-align: start;\r\n",
       "}\r\n",
       "details.dni-treeview {\r\n",
       "    padding-left: 1em;\r\n",
       "}\r\n",
       "table td {\r\n",
       "    text-align: start;\r\n",
       "}\r\n",
       "table tr { \r\n",
       "    vertical-align: top; \r\n",
       "    margin: 0em 0px;\r\n",
       "}\r\n",
       "table tr td pre \r\n",
       "{ \r\n",
       "    vertical-align: top !important; \r\n",
       "    margin: 0em 0px !important;\r\n",
       "} \r\n",
       "table th {\r\n",
       "    text-align: start;\r\n",
       "}\r\n",
       "</style>"
      ]
     },
     "metadata": {},
     "output_type": "display_data"
    }
   ],
   "source": [
    "ListNode ofListNode = new ListNode();\n",
    "\n",
    "ListNodeUtils.OfList(ofListNode, [1,2,3,4,5]);\n",
    "ofListNode"
   ]
  },
  {
   "cell_type": "code",
   "execution_count": 9,
   "id": "e25ca8d4",
   "metadata": {
    "polyglot_notebook": {
     "kernelName": "csharp"
    },
    "vscode": {
     "languageId": "polyglot-notebook"
    }
   },
   "outputs": [],
   "source": [
    "var list1 = new ListNode();\n",
    "ListNodeUtils.OfList(list1, [1,3,5,7,9]);\n",
    "var list2 = new ListNode();\n",
    "ListNodeUtils.OfList(list2, [1,2,4,6,8,9,10]);\n"
   ]
  },
  {
   "cell_type": "code",
   "execution_count": 10,
   "id": "2786b130",
   "metadata": {
    "polyglot_notebook": {
     "kernelName": "csharp"
    },
    "vscode": {
     "languageId": "polyglot-notebook"
    }
   },
   "outputs": [
    {
     "data": {
      "text/html": [
       "<details open=\"open\" class=\"dni-treeview\"><summary><span class=\"dni-code-hint\"><code>Submission#2+ListNode</code></span></summary><div><table><thead><tr></tr></thead><tbody><tr><td>val</td><td><div class=\"dni-plaintext\"><pre>1</pre></div></td></tr><tr><td>next</td><td><details class=\"dni-treeview\"><summary><span class=\"dni-code-hint\"><code>Submission#2+ListNode</code></span></summary><div><table><thead><tr></tr></thead><tbody><tr><td>val</td><td><div class=\"dni-plaintext\"><pre>3</pre></div></td></tr><tr><td>next</td><td><details class=\"dni-treeview\"><summary><span class=\"dni-code-hint\"><code>Submission#2+ListNode</code></span></summary><div><table><thead><tr></tr></thead><tbody><tr><td>val</td><td><div class=\"dni-plaintext\"><pre>5</pre></div></td></tr><tr><td>next</td><td><details class=\"dni-treeview\"><summary><span class=\"dni-code-hint\"><code>Submission#2+ListNode</code></span></summary><div><table><thead><tr></tr></thead><tbody><tr><td>val</td><td><div class=\"dni-plaintext\"><pre>7</pre></div></td></tr><tr><td>next</td><td><details class=\"dni-treeview\"><summary><span class=\"dni-code-hint\"><code>Submission#2+ListNode</code></span></summary><div><table><thead><tr></tr></thead><tbody><tr><td>val</td><td><div class=\"dni-plaintext\"><pre>9</pre></div></td></tr><tr><td>next</td><td><div class=\"dni-plaintext\"><pre>&lt;null&gt;</pre></div></td></tr></tbody></table></div></details></td></tr></tbody></table></div></details></td></tr></tbody></table></div></details></td></tr></tbody></table></div></details></td></tr></tbody></table></div></details><style>\r\n",
       ".dni-code-hint {\r\n",
       "    font-style: italic;\r\n",
       "    overflow: hidden;\r\n",
       "    white-space: nowrap;\r\n",
       "}\r\n",
       ".dni-treeview {\r\n",
       "    white-space: nowrap;\r\n",
       "}\r\n",
       ".dni-treeview td {\r\n",
       "    vertical-align: top;\r\n",
       "    text-align: start;\r\n",
       "}\r\n",
       "details.dni-treeview {\r\n",
       "    padding-left: 1em;\r\n",
       "}\r\n",
       "table td {\r\n",
       "    text-align: start;\r\n",
       "}\r\n",
       "table tr { \r\n",
       "    vertical-align: top; \r\n",
       "    margin: 0em 0px;\r\n",
       "}\r\n",
       "table tr td pre \r\n",
       "{ \r\n",
       "    vertical-align: top !important; \r\n",
       "    margin: 0em 0px !important;\r\n",
       "} \r\n",
       "table th {\r\n",
       "    text-align: start;\r\n",
       "}\r\n",
       "</style>"
      ]
     },
     "metadata": {},
     "output_type": "display_data"
    }
   ],
   "source": [
    "list1"
   ]
  },
  {
   "cell_type": "code",
   "execution_count": 11,
   "id": "334be9b2",
   "metadata": {
    "polyglot_notebook": {
     "kernelName": "csharp"
    },
    "vscode": {
     "languageId": "polyglot-notebook"
    }
   },
   "outputs": [
    {
     "data": {
      "text/html": [
       "<details open=\"open\" class=\"dni-treeview\"><summary><span class=\"dni-code-hint\"><code>Submission#2+ListNode</code></span></summary><div><table><thead><tr></tr></thead><tbody><tr><td>val</td><td><div class=\"dni-plaintext\"><pre>1</pre></div></td></tr><tr><td>next</td><td><details class=\"dni-treeview\"><summary><span class=\"dni-code-hint\"><code>Submission#2+ListNode</code></span></summary><div><table><thead><tr></tr></thead><tbody><tr><td>val</td><td><div class=\"dni-plaintext\"><pre>2</pre></div></td></tr><tr><td>next</td><td><details class=\"dni-treeview\"><summary><span class=\"dni-code-hint\"><code>Submission#2+ListNode</code></span></summary><div><table><thead><tr></tr></thead><tbody><tr><td>val</td><td><div class=\"dni-plaintext\"><pre>4</pre></div></td></tr><tr><td>next</td><td><details class=\"dni-treeview\"><summary><span class=\"dni-code-hint\"><code>Submission#2+ListNode</code></span></summary><div><table><thead><tr></tr></thead><tbody><tr><td>val</td><td><div class=\"dni-plaintext\"><pre>6</pre></div></td></tr><tr><td>next</td><td><details class=\"dni-treeview\"><summary><span class=\"dni-code-hint\"><code>Submission#2+ListNode</code></span></summary><div><table><thead><tr></tr></thead><tbody><tr><td>val</td><td><div class=\"dni-plaintext\"><pre>8</pre></div></td></tr><tr><td>next</td><td><details class=\"dni-treeview\"><summary><span class=\"dni-code-hint\"><code>Submission#2+ListNode</code></span></summary><div><table><thead><tr></tr></thead><tbody><tr><td>val</td><td>9</td></tr><tr><td>next</td><td>Submission#2+ListNode</td></tr></tbody></table></div></details></td></tr></tbody></table></div></details></td></tr></tbody></table></div></details></td></tr></tbody></table></div></details></td></tr></tbody></table></div></details></td></tr></tbody></table></div></details><style>\r\n",
       ".dni-code-hint {\r\n",
       "    font-style: italic;\r\n",
       "    overflow: hidden;\r\n",
       "    white-space: nowrap;\r\n",
       "}\r\n",
       ".dni-treeview {\r\n",
       "    white-space: nowrap;\r\n",
       "}\r\n",
       ".dni-treeview td {\r\n",
       "    vertical-align: top;\r\n",
       "    text-align: start;\r\n",
       "}\r\n",
       "details.dni-treeview {\r\n",
       "    padding-left: 1em;\r\n",
       "}\r\n",
       "table td {\r\n",
       "    text-align: start;\r\n",
       "}\r\n",
       "table tr { \r\n",
       "    vertical-align: top; \r\n",
       "    margin: 0em 0px;\r\n",
       "}\r\n",
       "table tr td pre \r\n",
       "{ \r\n",
       "    vertical-align: top !important; \r\n",
       "    margin: 0em 0px !important;\r\n",
       "} \r\n",
       "table th {\r\n",
       "    text-align: start;\r\n",
       "}\r\n",
       "</style>"
      ]
     },
     "metadata": {},
     "output_type": "display_data"
    }
   ],
   "source": [
    "list2"
   ]
  },
  {
   "cell_type": "code",
   "execution_count": null,
   "metadata": {
    "polyglot_notebook": {
     "kernelName": "csharp"
    },
    "vscode": {
     "languageId": "polyglot-notebook"
    }
   },
   "outputs": [
    {
     "ename": "Error",
     "evalue": "Command cancelled.",
     "output_type": "error",
     "traceback": [
      "Command cancelled."
     ]
    }
   ],
   "source": [
    "var resultuList1 = ListNodeUtils.MergeTwoLists()(list1,list2);\n",
    "ListNodeUtils.ToList(resultuList1);"
   ]
  }
 ],
 "metadata": {
  "kernelspec": {
   "display_name": ".NET (C#)",
   "language": "C#",
   "name": ".net-csharp"
  },
  "language_info": {
   "name": "csharp"
  },
  "polyglot_notebook": {
   "kernelInfo": {
    "defaultKernelName": "csharp",
    "items": [
     {
      "aliases": [],
      "name": "csharp"
     }
    ]
   }
  }
 },
 "nbformat": 4,
 "nbformat_minor": 5
}
