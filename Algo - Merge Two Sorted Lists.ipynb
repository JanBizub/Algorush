{
 "cells": [
  {
   "cell_type": "markdown",
   "id": "49c82041",
   "metadata": {},
   "source": [
    "[Source](https://leetcode.com/problems/merge-two-sorted-lists/)\n",
    "\n",
    "You are given the heads of two sorted linked lists list1 and list2.\n",
    "Merge the two lists into one sorted list. The list should be made by splicing together the nodes of the first two lists.\n",
    "\n",
    "**Example 1:** \n",
    "    1 -> 2 -> 4\n",
    "    1 -> 3 -> 4\n",
    "        1 -> 1 -> 2 -> 3 -> 4 -> 4\n",
    "\n",
    "Input: list1 = [1,2,4], list2 = [1,3,4]\n",
    "Output: [1,1,2,3,4,4]\n",
    "\n",
    "**Example 2:**\n",
    "\n",
    "Input: list1 = [], list2 = []\n",
    "Output: []\n",
    "\n",
    "**Example 3:**\n",
    "\n",
    "Input: list1 = [], list2 = [0]\n",
    "Output: [0]\n",
    "\n",
    "**Constraints:**\n",
    "\n",
    " + The number of nodes in both lists is in the range [0, 50].\n",
    " + -100 <= Node.val <= 100\n",
    " + Both list1 and list2 are sorted in non-decreasing order."
   ]
  },
  {
   "cell_type": "code",
   "execution_count": 74,
   "id": "41820fd3",
   "metadata": {
    "polyglot_notebook": {
     "kernelName": "mermaid"
    },
    "vscode": {
     "languageId": "polyglot-notebook"
    }
   },
   "outputs": [
    {
     "data": {
      "text/html": [
       "<div class=\"mermaidMarkdownContainer\" style=\"background-color:white\">\r\n",
       "<link rel=\"stylesheet\" href=\"https://cdnjs.cloudflare.com/ajax/libs/font-awesome/6.2.0/css/all.min.css\">\r\n",
       "<div id=\"333ec3ab1c7d47319fc1b705e841e375\"></div>\r\n",
       "<script type=\"module\">\r\n",
       "\r\n",
       "            import mermaid from 'https://cdn.jsdelivr.net/npm/mermaid@10.6.1/dist/mermaid.esm.min.mjs';\r\n",
       "            let renderTarget = document.getElementById('333ec3ab1c7d47319fc1b705e841e375');\r\n",
       "            try {\r\n",
       "                const {svg, bindFunctions} = await mermaid.mermaidAPI.render( \r\n",
       "                    'mermaid_333ec3ab1c7d47319fc1b705e841e375', \r\n",
       "                    `graph LR\r\n",
       "    %% List 1\r\n",
       "    A1[1] --> A2[2] --> A3[4]\r\n",
       "    \r\n",
       "    %% List 2\r\n",
       "    B1[1] --> B2[3] --> B3[4]`);\r\n",
       "                renderTarget.innerHTML = svg;\r\n",
       "                bindFunctions?.(renderTarget);\r\n",
       "            }\r\n",
       "            catch (error) {\r\n",
       "                console.log(error);\r\n",
       "            }\r\n",
       "</script>\r\n",
       "</div>\r\n"
      ]
     },
     "metadata": {},
     "output_type": "display_data"
    }
   ],
   "source": [
    "graph LR\n",
    "    %% List 1\n",
    "    A1[1] --> A2[2] --> A3[4]\n",
    "    \n",
    "    %% List 2\n",
    "    B1[1] --> B2[3] --> B3[4]"
   ]
  },
  {
   "cell_type": "code",
   "execution_count": 75,
   "id": "838f8558",
   "metadata": {
    "vscode": {
     "languageId": "polyglot-notebook"
    }
   },
   "outputs": [],
   "source": [
    "public class ListNode {\n",
    "    public int val;\n",
    "    public ListNode next;\n",
    "    public ListNode (int val = 0, ListNode next = null) {\n",
    "        this.val = val;\n",
    "        this.next = next;\n",
    "    }\n",
    "\n",
    "    public List<int> ToList () {\n",
    "        List<int> l = new List<int>();\n",
    "        \n",
    "        ListNode currentNode = this;\n",
    "        while (currentNode != null) {\n",
    "            l.Add(currentNode.val);\n",
    "            currentNode = currentNode.next;\n",
    "        }\n",
    "        return l;\n",
    "    }\n",
    "}"
   ]
  },
  {
   "cell_type": "code",
   "execution_count": 76,
   "id": "496b64db",
   "metadata": {
    "vscode": {
     "languageId": "polyglot-notebook"
    }
   },
   "outputs": [],
   "source": [
    "public ListNode MergeTwoLists(ListNode list1, ListNode list2) {\n",
    "    return new ListNode();\n",
    "}"
   ]
  },
  {
   "cell_type": "markdown",
   "id": "872aaef1",
   "metadata": {},
   "source": [
    "**Approach**\n",
    "1. Create 2 input lists.\n",
    "    - Implement \"ToList()\" method to show the chain.\n",
    "2. Implement the MergeTwoLists.\n"
   ]
  },
  {
   "cell_type": "code",
   "execution_count": 77,
   "id": "e25ca8d4",
   "metadata": {
    "vscode": {
     "languageId": "polyglot-notebook"
    }
   },
   "outputs": [
    {
     "data": {
      "text/html": [
       "<details open=\"open\" class=\"dni-treeview\"><summary><span class=\"dni-code-hint\"><code>Submission#50+ListNode</code></span></summary><div><table><thead><tr></tr></thead><tbody><tr><td>val</td><td><div class=\"dni-plaintext\"><pre>1</pre></div></td></tr><tr><td>next</td><td><details class=\"dni-treeview\"><summary><span class=\"dni-code-hint\"><code>Submission#50+ListNode</code></span></summary><div><table><thead><tr></tr></thead><tbody><tr><td>val</td><td><div class=\"dni-plaintext\"><pre>2</pre></div></td></tr><tr><td>next</td><td><details class=\"dni-treeview\"><summary><span class=\"dni-code-hint\"><code>Submission#50+ListNode</code></span></summary><div><table><thead><tr></tr></thead><tbody><tr><td>val</td><td><div class=\"dni-plaintext\"><pre>4</pre></div></td></tr><tr><td>next</td><td><div class=\"dni-plaintext\"><pre>&lt;null&gt;</pre></div></td></tr></tbody></table></div></details></td></tr></tbody></table></div></details></td></tr></tbody></table></div></details><style>\r\n",
       ".dni-code-hint {\r\n",
       "    font-style: italic;\r\n",
       "    overflow: hidden;\r\n",
       "    white-space: nowrap;\r\n",
       "}\r\n",
       ".dni-treeview {\r\n",
       "    white-space: nowrap;\r\n",
       "}\r\n",
       ".dni-treeview td {\r\n",
       "    vertical-align: top;\r\n",
       "    text-align: start;\r\n",
       "}\r\n",
       "details.dni-treeview {\r\n",
       "    padding-left: 1em;\r\n",
       "}\r\n",
       "table td {\r\n",
       "    text-align: start;\r\n",
       "}\r\n",
       "table tr { \r\n",
       "    vertical-align: top; \r\n",
       "    margin: 0em 0px;\r\n",
       "}\r\n",
       "table tr td pre \r\n",
       "{ \r\n",
       "    vertical-align: top !important; \r\n",
       "    margin: 0em 0px !important;\r\n",
       "} \r\n",
       "table th {\r\n",
       "    text-align: start;\r\n",
       "}\r\n",
       "</style>"
      ]
     },
     "metadata": {},
     "output_type": "display_data"
    }
   ],
   "source": [
    "// List 1\n",
    "var lList1 = new ListNode(1);\n",
    "var l1n2 = new ListNode(2);\n",
    "var l1n3 = new ListNode(4);\n",
    "lList1.next = l1n2;\n",
    "l1n2.next = l1n3;\n",
    "\n",
    "lList1"
   ]
  },
  {
   "cell_type": "code",
   "execution_count": 78,
   "id": "2786b130",
   "metadata": {
    "vscode": {
     "languageId": "polyglot-notebook"
    }
   },
   "outputs": [
    {
     "data": {
      "text/html": [
       "<details open=\"open\" class=\"dni-treeview\"><summary><span class=\"dni-code-hint\"><code>Submission#50+ListNode</code></span></summary><div><table><thead><tr></tr></thead><tbody><tr><td>val</td><td><div class=\"dni-plaintext\"><pre>1</pre></div></td></tr><tr><td>next</td><td><details class=\"dni-treeview\"><summary><span class=\"dni-code-hint\"><code>Submission#50+ListNode</code></span></summary><div><table><thead><tr></tr></thead><tbody><tr><td>val</td><td><div class=\"dni-plaintext\"><pre>3</pre></div></td></tr><tr><td>next</td><td><details class=\"dni-treeview\"><summary><span class=\"dni-code-hint\"><code>Submission#50+ListNode</code></span></summary><div><table><thead><tr></tr></thead><tbody><tr><td>val</td><td><div class=\"dni-plaintext\"><pre>4</pre></div></td></tr><tr><td>next</td><td><div class=\"dni-plaintext\"><pre>&lt;null&gt;</pre></div></td></tr></tbody></table></div></details></td></tr></tbody></table></div></details></td></tr></tbody></table></div></details><style>\r\n",
       ".dni-code-hint {\r\n",
       "    font-style: italic;\r\n",
       "    overflow: hidden;\r\n",
       "    white-space: nowrap;\r\n",
       "}\r\n",
       ".dni-treeview {\r\n",
       "    white-space: nowrap;\r\n",
       "}\r\n",
       ".dni-treeview td {\r\n",
       "    vertical-align: top;\r\n",
       "    text-align: start;\r\n",
       "}\r\n",
       "details.dni-treeview {\r\n",
       "    padding-left: 1em;\r\n",
       "}\r\n",
       "table td {\r\n",
       "    text-align: start;\r\n",
       "}\r\n",
       "table tr { \r\n",
       "    vertical-align: top; \r\n",
       "    margin: 0em 0px;\r\n",
       "}\r\n",
       "table tr td pre \r\n",
       "{ \r\n",
       "    vertical-align: top !important; \r\n",
       "    margin: 0em 0px !important;\r\n",
       "} \r\n",
       "table th {\r\n",
       "    text-align: start;\r\n",
       "}\r\n",
       "</style>"
      ]
     },
     "metadata": {},
     "output_type": "display_data"
    }
   ],
   "source": [
    "var lList2 = new ListNode(1);\n",
    "var l2n2 = new ListNode(3);\n",
    "var l2n3 = new ListNode(4);\n",
    "\n",
    "lList2.next = l2n2;\n",
    "l2n2.next = l2n3;\n",
    "\n",
    "lList2"
   ]
  },
  {
   "cell_type": "code",
   "execution_count": 79,
   "id": "334be9b2",
   "metadata": {
    "vscode": {
     "languageId": "polyglot-notebook"
    }
   },
   "outputs": [
    {
     "data": {
      "text/html": [
       "<div class=\"dni-plaintext\"><pre>[ 1, 2, 4 ]</pre></div><style>\r\n",
       ".dni-code-hint {\r\n",
       "    font-style: italic;\r\n",
       "    overflow: hidden;\r\n",
       "    white-space: nowrap;\r\n",
       "}\r\n",
       ".dni-treeview {\r\n",
       "    white-space: nowrap;\r\n",
       "}\r\n",
       ".dni-treeview td {\r\n",
       "    vertical-align: top;\r\n",
       "    text-align: start;\r\n",
       "}\r\n",
       "details.dni-treeview {\r\n",
       "    padding-left: 1em;\r\n",
       "}\r\n",
       "table td {\r\n",
       "    text-align: start;\r\n",
       "}\r\n",
       "table tr { \r\n",
       "    vertical-align: top; \r\n",
       "    margin: 0em 0px;\r\n",
       "}\r\n",
       "table tr td pre \r\n",
       "{ \r\n",
       "    vertical-align: top !important; \r\n",
       "    margin: 0em 0px !important;\r\n",
       "} \r\n",
       "table th {\r\n",
       "    text-align: start;\r\n",
       "}\r\n",
       "</style>"
      ]
     },
     "metadata": {},
     "output_type": "display_data"
    }
   ],
   "source": [
    "var list = lList1.ToList();\n",
    "list"
   ]
  }
 ],
 "metadata": {
  "kernelspec": {
   "display_name": ".NET (C#)",
   "language": "C#",
   "name": ".net-csharp"
  },
  "language_info": {
   "name": "csharp"
  },
  "polyglot_notebook": {
   "kernelInfo": {
    "defaultKernelName": "csharp",
    "items": [
     {
      "aliases": [],
      "name": "csharp"
     }
    ]
   }
  }
 },
 "nbformat": 4,
 "nbformat_minor": 5
}
