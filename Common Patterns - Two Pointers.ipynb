{
 "cells": [
  {
   "cell_type": "markdown",
   "id": "aa178c69",
   "metadata": {},
   "source": [
    "Given a sorted array of integers, determine if there exist two numbers such that their sum is equal to a given target. \n",
    "\n",
    "**When to Use Two Pointers:**\n",
    "- Array is sorted.\n",
    "- You're looking for pairs, triplets, or subsequences with specific properties.\n",
    "- You want better performance than brute-force O(n^2). This is O(n)."
   ]
  },
  {
   "cell_type": "code",
   "execution_count": 1,
   "id": "422d83b7",
   "metadata": {
    "vscode": {
     "languageId": "polyglot-notebook"
    }
   },
   "outputs": [],
   "source": [
    "bool HasTwoSum(int[] nums, int target)\n",
    "{\n",
    "    int left = 0;\n",
    "    int right = nums.Length - 1;\n",
    "\n",
    "    while (left < right)\n",
    "    {\n",
    "        int sum = nums[left] + nums[right];\n",
    "\n",
    "        if (sum == target)\n",
    "            return true;\n",
    "        else if (sum < target)\n",
    "            left++;\n",
    "        else\n",
    "            right--;\n",
    "    }\n",
    "\n",
    "    return false;\n",
    "}"
   ]
  },
  {
   "cell_type": "code",
   "execution_count": 4,
   "id": "e586df0d",
   "metadata": {
    "vscode": {
     "languageId": "polyglot-notebook"
    }
   },
   "outputs": [
    {
     "data": {
      "text/html": [
       "<div class=\"dni-plaintext\"><pre>True</pre></div><style>\r\n",
       ".dni-code-hint {\r\n",
       "    font-style: italic;\r\n",
       "    overflow: hidden;\r\n",
       "    white-space: nowrap;\r\n",
       "}\r\n",
       ".dni-treeview {\r\n",
       "    white-space: nowrap;\r\n",
       "}\r\n",
       ".dni-treeview td {\r\n",
       "    vertical-align: top;\r\n",
       "    text-align: start;\r\n",
       "}\r\n",
       "details.dni-treeview {\r\n",
       "    padding-left: 1em;\r\n",
       "}\r\n",
       "table td {\r\n",
       "    text-align: start;\r\n",
       "}\r\n",
       "table tr { \r\n",
       "    vertical-align: top; \r\n",
       "    margin: 0em 0px;\r\n",
       "}\r\n",
       "table tr td pre \r\n",
       "{ \r\n",
       "    vertical-align: top !important; \r\n",
       "    margin: 0em 0px !important;\r\n",
       "} \r\n",
       "table th {\r\n",
       "    text-align: start;\r\n",
       "}\r\n",
       "</style>"
      ]
     },
     "metadata": {},
     "output_type": "display_data"
    }
   ],
   "source": [
    "int[] arr = { 1, 2, 4, 7, 11, 15 };\n",
    "int target = 15;\n",
    "\n",
    "bool result = HasTwoSum(arr, target);  // true (4 + 11 or 7 + 8 if it existed)\n",
    "\n",
    "result"
   ]
  }
 ],
 "metadata": {
  "kernelspec": {
   "display_name": ".NET (C#)",
   "language": "C#",
   "name": ".net-csharp"
  },
  "language_info": {
   "name": "csharp"
  },
  "polyglot_notebook": {
   "kernelInfo": {
    "defaultKernelName": "csharp",
    "items": [
     {
      "aliases": [],
      "name": "csharp"
     }
    ]
   }
  }
 },
 "nbformat": 4,
 "nbformat_minor": 5
}
