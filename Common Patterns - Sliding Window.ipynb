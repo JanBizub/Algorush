{
 "cells": [
  {
   "cell_type": "markdown",
   "id": "758b38b1",
   "metadata": {},
   "source": [
    "Find the maximum sum of a subarray with length k in an array of integers."
   ]
  },
  {
   "cell_type": "code",
   "execution_count": 1,
   "id": "ed991cef",
   "metadata": {
    "polyglot_notebook": {
     "kernelName": "csharp"
    },
    "vscode": {
     "languageId": "polyglot-notebook"
    }
   },
   "outputs": [],
   "source": [
    "int MaxSumSlidingWindow(int[] nums, int k)\n",
    "{\n",
    "    if (nums == null || nums.Length < k)\n",
    "        throw new ArgumentException(\"Invalid input\");\n",
    "\n",
    "    int windowSum = 0;\n",
    "    for (int i = 0; i < k; i++)\n",
    "        windowSum += nums[i];\n",
    "\n",
    "    int maxSum = windowSum;\n",
    "\n",
    "    for (int i = k; i < nums.Length; i++)\n",
    "    {\n",
    "        windowSum += nums[i] - nums[i - k];\n",
    "        maxSum = Math.Max(maxSum, windowSum);\n",
    "    }\n",
    "\n",
    "    return maxSum;\n",
    "}"
   ]
  },
  {
   "cell_type": "code",
   "execution_count": 2,
   "id": "f8abc438",
   "metadata": {
    "polyglot_notebook": {
     "kernelName": "csharp"
    },
    "vscode": {
     "languageId": "polyglot-notebook"
    }
   },
   "outputs": [],
   "source": [
    "var result = MaxSumSlidingWindow(new[] { 2, 1, 5, 1, 3, 2 }, 3);"
   ]
  }
 ],
 "metadata": {
  "kernelspec": {
   "display_name": ".NET (C#)",
   "language": "C#",
   "name": ".net-csharp"
  },
  "language_info": {
   "name": "csharp"
  },
  "polyglot_notebook": {
   "kernelInfo": {
    "defaultKernelName": "csharp",
    "items": [
     {
      "aliases": [],
      "name": "csharp"
     }
    ]
   }
  }
 },
 "nbformat": 4,
 "nbformat_minor": 5
}
